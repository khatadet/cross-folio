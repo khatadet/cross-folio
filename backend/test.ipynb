{
 "cells": [
  {
   "cell_type": "code",
   "execution_count": 15,
   "metadata": {},
   "outputs": [],
   "source": [
    "import MVC \n",
    "from sqlmodel import  Session"
   ]
  },
  {
   "cell_type": "code",
   "execution_count": null,
   "metadata": {},
   "outputs": [],
   "source": [
    "def func_manual_add_academic_year(year_param:str, ):\n",
    "    print(year_param)\n",
    "    with Session(MVC.engine) as session:\n",
    "        academic_year_name = \"ปีการศึกษา \"+str(year_param)\n",
    "        academic_year = session.exec(MVC.select(MVC.AcademicYear).where(MVC.AcademicYear.name == academic_year_name)).first()\n",
    "        \n",
    "        if academic_year:\n",
    "            \n",
    "            return {\"message\":\"error\"}\n",
    "        academic_year = MVC.create_academic_year(session, academic_year_name)\n",
    "\n",
    "        semester_names = MVC.get_all_semester_names(session)\n",
    "        for i in semester_names:\n",
    "            MVC.create_semester(session,academic_year_id= academic_year.id,semester_name_id= i.id)\n",
    "        \n",
    "    return {\"message\":\"Save Success\"}"
   ]
  },
  {
   "cell_type": "code",
   "execution_count": 17,
   "metadata": {},
   "outputs": [
    {
     "name": "stdout",
     "output_type": "stream",
     "text": [
      "2547\n",
      "[SemesterName(), SemesterName(), SemesterName()]\n"
     ]
    },
    {
     "data": {
      "text/plain": [
       "{'message': 'Save Success'}"
      ]
     },
     "execution_count": 17,
     "metadata": {},
     "output_type": "execute_result"
    }
   ],
   "source": [
    "func_manual_add_academic_year(2547)"
   ]
  }
 ],
 "metadata": {
  "kernelspec": {
   "display_name": "Python 3",
   "language": "python",
   "name": "python3"
  },
  "language_info": {
   "codemirror_mode": {
    "name": "ipython",
    "version": 3
   },
   "file_extension": ".py",
   "mimetype": "text/x-python",
   "name": "python",
   "nbconvert_exporter": "python",
   "pygments_lexer": "ipython3",
   "version": "3.12.3"
  }
 },
 "nbformat": 4,
 "nbformat_minor": 2
}
